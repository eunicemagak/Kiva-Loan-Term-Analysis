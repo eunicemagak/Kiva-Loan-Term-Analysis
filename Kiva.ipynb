{
 "cells": [
  {
   "cell_type": "code",
   "execution_count": 1,
   "id": "0ddcf1bc-291d-470e-8da8-d5ad2505204d",
   "metadata": {},
   "outputs": [
    {
     "name": "stdout",
     "output_type": "stream",
     "text": [
      "Requirement already satisfied: matplotlib in ./.pyenv/versions/3.10.6/lib/python3.10/site-packages (3.8.2)\n",
      "Requirement already satisfied: seaborn in ./.pyenv/versions/3.10.6/lib/python3.10/site-packages (0.13.0)\n",
      "Requirement already satisfied: contourpy>=1.0.1 in ./.pyenv/versions/3.10.6/lib/python3.10/site-packages (from matplotlib) (1.2.0)\n",
      "Requirement already satisfied: cycler>=0.10 in ./.pyenv/versions/3.10.6/lib/python3.10/site-packages (from matplotlib) (0.12.1)\n",
      "Requirement already satisfied: fonttools>=4.22.0 in ./.pyenv/versions/3.10.6/lib/python3.10/site-packages (from matplotlib) (4.47.0)\n",
      "Requirement already satisfied: kiwisolver>=1.3.1 in ./.pyenv/versions/3.10.6/lib/python3.10/site-packages (from matplotlib) (1.4.5)\n",
      "Requirement already satisfied: numpy<2,>=1.21 in ./.pyenv/versions/3.10.6/lib/python3.10/site-packages (from matplotlib) (1.25.0)\n",
      "Requirement already satisfied: packaging>=20.0 in ./.pyenv/versions/3.10.6/lib/python3.10/site-packages (from matplotlib) (21.3)\n",
      "Requirement already satisfied: pillow>=8 in ./.pyenv/versions/3.10.6/lib/python3.10/site-packages (from matplotlib) (9.2.0)\n",
      "Requirement already satisfied: pyparsing>=2.3.1 in ./.pyenv/versions/3.10.6/lib/python3.10/site-packages (from matplotlib) (3.0.9)\n",
      "Requirement already satisfied: python-dateutil>=2.7 in ./.pyenv/versions/3.10.6/lib/python3.10/site-packages (from matplotlib) (2.8.2)\n",
      "Requirement already satisfied: pandas>=1.2 in ./.pyenv/versions/3.10.6/lib/python3.10/site-packages (from seaborn) (2.0.3)\n",
      "Requirement already satisfied: pytz>=2020.1 in ./.pyenv/versions/3.10.6/lib/python3.10/site-packages (from pandas>=1.2->seaborn) (2022.2.1)\n",
      "Requirement already satisfied: tzdata>=2022.1 in ./.pyenv/versions/3.10.6/lib/python3.10/site-packages (from pandas>=1.2->seaborn) (2023.3)\n",
      "Requirement already satisfied: six>=1.5 in ./.pyenv/versions/3.10.6/lib/python3.10/site-packages (from python-dateutil>=2.7->matplotlib) (1.16.0)\n"
     ]
    }
   ],
   "source": [
    "!pip install matplotlib seaborn"
   ]
  },
  {
   "cell_type": "code",
   "execution_count": 2,
   "id": "d534ead1-22d4-4037-a7c0-3c7076ed29f2",
   "metadata": {},
   "outputs": [
    {
     "name": "stderr",
     "output_type": "stream",
     "text": [
      "INFO:__main__:Data loaded successfully.\n"
     ]
    },
    {
     "name": "stdout",
     "output_type": "stream",
     "text": [
      "Sample data:\n",
      "       id  funded_amount  loan_amount             activity          sector  \\\n",
      "0  653051          300.0        300.0  Fruits & Vegetables            Food   \n",
      "1  653053          575.0        575.0             Rickshaw  Transportation   \n",
      "2  653068          150.0        150.0       Transportation  Transportation   \n",
      "3  653063          200.0        200.0           Embroidery            Arts   \n",
      "4  653084          400.0        400.0           Milk Sales            Food   \n",
      "\n",
      "                                                 use country_code   country  \\\n",
      "0            To buy seasonal, fresh fruits to sell.            PK  Pakistan   \n",
      "1  to repair and maintain the auto rickshaw used ...           PK  Pakistan   \n",
      "2  To repair their old cycle-van and buy another ...           IN     India   \n",
      "3  to purchase an embroidery machine and a variet...           PK  Pakistan   \n",
      "4                           to purchase one buffalo.           PK  Pakistan   \n",
      "\n",
      "         region currency  partner_id                posted_time  \\\n",
      "0        Lahore      PKR       247.0  2014-01-01 06:12:39+00:00   \n",
      "1        Lahore      PKR       247.0  2014-01-01 06:51:08+00:00   \n",
      "2     Maynaguri      INR       334.0  2014-01-01 09:58:07+00:00   \n",
      "3        Lahore      PKR       247.0  2014-01-01 08:03:11+00:00   \n",
      "4  Abdul Hakeem      PKR       245.0  2014-01-01 11:53:19+00:00   \n",
      "\n",
      "              disbursed_time                funded_time  term_in_months  \\\n",
      "0  2013-12-17 08:00:00+00:00  2014-01-02 10:06:32+00:00            12.0   \n",
      "1  2013-12-17 08:00:00+00:00  2014-01-02 09:17:23+00:00            11.0   \n",
      "2  2013-12-17 08:00:00+00:00  2014-01-01 16:01:36+00:00            43.0   \n",
      "3  2013-12-24 08:00:00+00:00  2014-01-01 13:00:00+00:00            11.0   \n",
      "4  2013-12-17 08:00:00+00:00  2014-01-01 19:18:51+00:00            14.0   \n",
      "\n",
      "   lender_count                          tags borrower_genders  \\\n",
      "0            12                           NaN           female   \n",
      "1            14                           NaN   female, female   \n",
      "2             6  user_favorite, user_favorite           female   \n",
      "3             8                           NaN           female   \n",
      "4            16                           NaN           female   \n",
      "\n",
      "  repayment_interval        date  \n",
      "0          irregular  2014-01-01  \n",
      "1          irregular  2014-01-01  \n",
      "2             bullet  2014-01-01  \n",
      "3          irregular  2014-01-01  \n",
      "4            monthly  2014-01-01  \n"
     ]
    }
   ],
   "source": [
    "import pandas as pd\n",
    "import matplotlib.pyplot as plt\n",
    "import seaborn as sns\n",
    "import logging\n",
    "\n",
    "# Set up logging\n",
    "logging.basicConfig(level=logging.INFO)\n",
    "logger = logging.getLogger(__name__)\n",
    "\n",
    "# Define the file path to the kiva_loans CSV\n",
    "file_path = '/Users/Eunice/Downloads/archive/kiva_loans.csv'\n",
    "\n",
    "# Load the kiva_loans CSV file into a Pandas DataFrame\n",
    "data = pd.read_csv(file_path)\n",
    "logger.info(\"Data loaded successfully.\")\n",
    "print(\"Sample data:\")\n",
    "print(data.head())"
   ]
  },
  {
   "cell_type": "code",
   "execution_count": 3,
   "id": "5ebf0ad3-f232-45d5-92ec-e7465e8e2f6b",
   "metadata": {},
   "outputs": [
    {
     "name": "stderr",
     "output_type": "stream",
     "text": [
      "INFO:__main__:Loan terms extracted.\n"
     ]
    },
    {
     "name": "stdout",
     "output_type": "stream",
     "text": [
      "\n",
      "Sample loan terms:\n",
      "0    12.0\n",
      "1    11.0\n",
      "2    43.0\n",
      "3    11.0\n",
      "4    14.0\n",
      "Name: term_in_months, dtype: float64\n"
     ]
    }
   ],
   "source": [
    "# Extract loan terms for the KDE plot ('term_in_months' is the 15th column)\n",
    "loan_terms = data.iloc[:, 14]\n",
    "logger.info(\"Loan terms extracted.\")\n",
    "print(\"\\nSample loan terms:\")\n",
    "print(loan_terms.head())\n"
   ]
  },
  {
   "cell_type": "code",
   "execution_count": 4,
   "id": "4a3c2f96-d147-46b2-9b94-d33f2a4c6a0e",
   "metadata": {},
   "outputs": [
    {
     "name": "stdout",
     "output_type": "stream",
     "text": [
      "\n",
      "Descriptive Statistics for Loan Terms:\n",
      "Average term_in_months: 13.74\n",
      "Median term_in_months: 13.0\n",
      "Mode term_in_months: 14.0\n"
     ]
    }
   ],
   "source": [
    "# Calculate mean, median, and mode\n",
    "mean_loan_term = loan_terms.mean()\n",
    "median_loan_term = loan_terms.median()\n",
    "mode_loan_term = loan_terms.mode().values[0]\n",
    "\n",
    "# Display descriptive statistics\n",
    "print(\"\\nDescriptive Statistics for Loan Terms:\")\n",
    "print(f\"Average term_in_months: {mean_loan_term:.2f}\")\n",
    "print(f\"Median term_in_months: {median_loan_term}\")\n",
    "print(f\"Mode term_in_months: {mode_loan_term}\")"
   ]
  },
  {
   "cell_type": "code",
   "execution_count": 5,
   "id": "e24929cb-744c-4fe9-adf7-567625596a7f",
   "metadata": {},
   "outputs": [
    {
     "data": {
      "image/png": "[encoded data removed]",
      "text/plain": [
       "<Figure size 1000x600 with 1 Axes>"
      ]
     },
     "metadata": {},
     "output_type": "display_data"
    }
   ],
   "source": [
    "# Creating a histogram for loan terms\n",
    "plt.figure(figsize=(10, 6))\n",
    "sns.histplot(loan_terms, bins=range(0, 161, 10), kde=False, color='green')  # Adjust 'bins' and range as needed\n",
    "\n",
    "# Set x-axis and y-axis limits\n",
    "plt.xlim(left=0)\n",
    "plt.ylim(bottom=0)\n",
    "\n",
    "# Title and labels\n",
    "plt.title('Distribution of Loan Terms in Months')\n",
    "plt.xlabel('Loan Term (Months)')\n",
    "plt.ylabel('Frequency')\n",
    "\n",
    "# Save the plot as an image\n",
    "plt.savefig('loan_terms_distribution_histogram.png')\n",
    "\n",
    "# Show the plot\n",
    "plt.show()\n"
   ]
  },
  {
   "cell_type": "code",
   "execution_count": null,
   "id": "3aef1160-d6f0-420b-9c13-2bd69470959d",
   "metadata": {},
   "outputs": [],
   "source": []
  }
 ],
 "metadata": {
  "kernelspec": {
   "display_name": "Python 3 (ipykernel)",
   "language": "python",
   "name": "python3"
  },
  "language_info": {
   "codemirror_mode": {
    "name": "ipython",
    "version": 3
   },
   "file_extension": ".py",
   "mimetype": "text/x-python",
   "name": "python",
   "nbconvert_exporter": "python",
   "pygments_lexer": "ipython3",
   "version": "3.10.6"
  }
 },
 "nbformat": 4,
 "nbformat_minor": 5
}
